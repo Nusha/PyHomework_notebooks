{
 "cells":[
  {
   "cell_type":"code",
   "source":[
    "from sympy import *\n",
    "init_printing()\n",
    "\n",
    "x = symbols('x')\n",
    "eq1 =  -18 * x ** 3 + 5 * x ** 2 + 10 * x - 30\n",
    "eq2 = 2 * x ** 3 + 2 * x ** 2 - 18 * x - 18\n",
    "eq3 = (x ** 2 + 3) \/ (3 * (x + 1))\n",
    "\n",
    "\n"
   ],
   "execution_count":27,
   "outputs":[
    
   ],
   "metadata":{
    "datalore":{
     "node_id":"oEBWTcYgJeMxkVCUFnYKm4",
     "type":"CODE",
     "hide_input_from_viewers":true,
     "hide_output_from_viewers":true
    }
   }
  },
  {
   "cell_type":"markdown",
   "source":[
    "# Function #1"
   ],
   "attachments":{
    
   },
   "metadata":{
    "datalore":{
     "node_id":"s9iS0XPrieQDYQlW2NMmKA",
     "type":"MD",
     "hide_input_from_viewers":true,
     "hide_output_from_viewers":true
    }
   }
  },
  {
   "cell_type":"code",
   "source":[
    "eq1"
   ],
   "execution_count":28,
   "outputs":[
    {
     "data":{
      "image\/png":"[encoded data removed]"
     },
     "metadata":{
      "image\/png":{
       
      }
     },
     "output_type":"display_data"
    }
   ],
   "metadata":{
    "datalore":{
     "node_id":"V49Vc2CzfE2b0u5SkKWTnV",
     "type":"CODE",
     "hide_input_from_viewers":true,
     "hide_output_from_viewers":true
    }
   }
  },
  {
   "cell_type":"markdown",
   "source":[
    "# Function roots"
   ],
   "attachments":{
    
   },
   "metadata":{
    "datalore":{
     "node_id":"PkUYuR5cQpCvNdQWaahPnm",
     "type":"MD",
     "hide_input_from_viewers":true,
     "hide_output_from_viewers":true
    }
   }
  },
  {
   "cell_type":"code",
   "source":[
    "res = solveset(eq1, x, Reals)\n",
    "pprint(res)\n",
    "N(res, 2)"
   ],
   "execution_count":4,
   "outputs":[
    {
     "name":"stdout",
     "text":[
      "⎧      ____________________                                    ⎫\n",
      "⎪     ╱ 5⋅√218931   127045                                     ⎪\n",
      "⎪  3 ╱  ───────── + ──────                                     ⎪\n",
      "⎪  ╲╱      108       5832                 565                5 ⎪\n",
      "⎨- ──────────────────────── - ──────────────────────────── + ──⎬\n",
      "⎪             3                       ____________________   54⎪\n",
      "⎪                                    ╱ 5⋅√218931   127045      ⎪\n",
      "⎪                             972⋅3 ╱  ───────── + ──────      ⎪\n",
      "⎩                                 ╲╱      108       5832       ⎭\n"
     ],
     "output_type":"stream"
    },
    {
     "data":{
      "image\/png":"[encoded data removed]"
     },
     "metadata":{
      "image\/png":{
       
      }
     },
     "output_type":"display_data"
    }
   ],
   "metadata":{
    "datalore":{
     "node_id":"lDOXK6LwUe6m3KyfMSj8RF",
     "type":"CODE",
     "hide_input_from_viewers":true,
     "hide_output_from_viewers":true
    }
   }
  },
  {
   "cell_type":"code",
   "source":[
    "lst = [-oo, oo]\n",
    "lst[1:1] = solveset(diff(eq1), x, Reals).evalf(2)\n",
    "lst"
   ],
   "execution_count":5,
   "outputs":[
    
   ],
   "metadata":{
    "datalore":{
     "node_id":"rVEAnsToFeeOpXv1xEFND6",
     "type":"CODE",
     "hide_input_from_viewers":true,
     "hide_output_from_viewers":true
    }
   }
  },
  {
   "cell_type":"markdown",
   "source":[
    "# Increasing and decreasing function intervals"
   ],
   "attachments":{
    
   },
   "metadata":{
    "datalore":{
     "node_id":"ocXLN1mNaz7cba4QWXXtA7",
     "type":"MD",
     "hide_input_from_viewers":true,
     "hide_output_from_viewers":true
    }
   }
  },
  {
   "cell_type":"code",
   "source":[
    "increasing = []\n",
    "decreasing = []\n",
    "for i in range (1, len(lst)):\n",
    "    tmp = is_increasing(eq1, Interval.open(lst[i-1], lst[i]))\n",
    "    if tmp:\n",
    "        increasing.append(f\"{lst[i-1]}, {lst[i]}\")\n",
    "    else:\n",
    "        decreasing.append(f\"{lst[i-1]}, {lst[i]}\")\n",
    "print(\"Function is increasing: \", *increasing, sep=\"\\n\") \n",
    "#increasing\n",
    "# pprint(*increasing)\n",
    "print(\"Function is decreasing: \", *decreasing, sep=\"\\n\")\n",
    "#decreasing\n",
    "# pprint(*decreasing)"
   ],
   "execution_count":6,
   "outputs":[
    {
     "name":"stdout",
     "text":[
      "Function is increasing: \n",
      "Function is decreasing: \n",
      "-oo, -0.35\n",
      "-0.35, 0.53\n",
      "0.53, oo\n"
     ],
     "output_type":"stream"
    }
   ],
   "metadata":{
    "datalore":{
     "node_id":"WEWz8w7FnhYOGr712qomd8",
     "type":"CODE",
     "hide_input_from_viewers":true,
     "hide_output_from_viewers":true
    }
   }
  },
  {
   "cell_type":"markdown",
   "source":[
    "# Graph of a function"
   ],
   "attachments":{
    
   },
   "metadata":{
    "datalore":{
     "node_id":"nhZbzEFTgc6WhNIyAqzNk7",
     "type":"MD",
     "hide_input_from_viewers":true,
     "hide_output_from_viewers":true
    }
   }
  },
  {
   "cell_type":"code",
   "source":[
    "plot(eq1, (x, -1, 1), legend=True)"
   ],
   "execution_count":11,
   "outputs":[
    {
     "data":{
      "image\/png":"[encoded data removed]"
     },
     "metadata":{
      "image\/png":{
       
      }
     },
     "output_type":"display_data"
    },
    {
     "data":{
      "text\/plain":[
       "<sympy.plotting.plot.Plot at 0x7f1786e7da00>"
      ]
     },
     "metadata":{
      
     },
     "output_type":"display_data"
    }
   ],
   "metadata":{
    "datalore":{
     "node_id":"2yg7C2RuUp43BObliGLdx6",
     "type":"CODE",
     "hide_input_from_viewers":true,
     "hide_output_from_viewers":true
    }
   }
  },
  {
   "cell_type":"markdown",
   "source":[
    "# Extrema of a function"
   ],
   "attachments":{
    
   },
   "metadata":{
    "datalore":{
     "node_id":"DGc8uZGdTPc8kxHhmFSgrj",
     "type":"MD",
     "hide_input_from_viewers":true,
     "hide_output_from_viewers":true
    }
   }
  },
  {
   "cell_type":"code",
   "source":[
    "from random import uniform\n",
    "\n",
    "f_diff = sorted(solveset(diff(eq1), x, Reals).evalf(2))\n",
    "f_diff.insert(0, f_diff[0]-1)\n",
    "f_1 = diff(eq1)\n",
    "\n",
    "ext_list = []\n",
    "\n",
    "\n",
    "for i, val in enumerate(f_diff):\n",
    "    ext_list.append(f_1.subs(x, uniform(val, f_diff[i] +1 )))\n",
    "    if i != 0:\n",
    "        if ext_list[i-1] < 0 < ext_list[i]:\n",
    "            print(f\"Minimum: {val}, {eq1.subs(x, val).evalf(2)}\")\n",
    "        elif ext_list[i-1] > 0 > ext_list[i]:\n",
    "            print(f\"Maximum: {val}, {eq1.subs(x, val).evalf(2)}\")\n",
    "        \n",
    "\n",
    "\n",
    "\n",
    "# a = solve(diff(eq1), x)\n",
    "# for i in a:\n",
    "#     tmp = eq1.subs(x, i)\n",
    "#     if tmp < 0:\n",
    "#         print(f\"Function minimum: \", tmp)\n",
    "#     elif tmp > 0:\n",
    "#         print(f\"Function maximum: \", tmp)"
   ],
   "execution_count":8,
   "outputs":[
    {
     "name":"stdout",
     "text":[
      "Minimum: -0.35, -32\n",
      "Maximum: 0.53, -26\n"
     ],
     "output_type":"stream"
    }
   ],
   "metadata":{
    "datalore":{
     "node_id":"Q42tf0q22NeANNVsCv85KR",
     "type":"CODE",
     "hide_input_from_viewers":true,
     "hide_output_from_viewers":true
    }
   }
  },
  {
   "cell_type":"code",
   "source":[
    "print(\"f > 0:\")\n",
    "solveset(eq1 > 0, x, Reals).evalf(2)"
   ],
   "execution_count":10,
   "outputs":[
    {
     "name":"stdout",
     "text":[
      "f > 0:\n"
     ],
     "output_type":"stream"
    }
   ],
   "metadata":{
    "datalore":{
     "node_id":"Sk7Qp5jmR2XVuo6qDECN5V",
     "type":"CODE",
     "hide_input_from_viewers":true,
     "hide_output_from_viewers":true
    }
   }
  },
  {
   "cell_type":"code",
   "source":[
    "\n",
    "print(\"f < 0:\")\n",
    "solveset(eq1 < 0, x, Reals).evalf(2)"
   ],
   "execution_count":11,
   "outputs":[
    {
     "name":"stdout",
     "text":[
      "f < 0:\n"
     ],
     "output_type":"stream"
    },
    {
     "data":{
      "image\/png":"[encoded data removed]"
     },
     "metadata":{
      "image\/png":{
       
      }
     },
     "output_type":"display_data"
    }
   ],
   "metadata":{
    "datalore":{
     "node_id":"RVgaboNn0157fGZqsRftek",
     "type":"CODE",
     "hide_input_from_viewers":true,
     "hide_output_from_viewers":true
    }
   }
  },
  {
   "cell_type":"markdown",
   "source":[
    "# Function #2"
   ],
   "attachments":{
    
   },
   "metadata":{
    "datalore":{
     "node_id":"ERnJ3CoFkP5LV0FzLcwTyi",
     "type":"MD",
     "hide_input_from_viewers":true,
     "hide_output_from_viewers":true
    }
   }
  },
  {
   "cell_type":"code",
   "source":[
    "eq2"
   ],
   "execution_count":14,
   "outputs":[
    {
     "data":{
      "image\/png":"[encoded data removed]"
     },
     "metadata":{
      "image\/png":{
       
      }
     },
     "output_type":"display_data"
    }
   ],
   "metadata":{
    "datalore":{
     "node_id":"ndsPlONVDZnQnSz3RXsKZ9",
     "type":"CODE",
     "hide_input_from_viewers":true,
     "hide_output_from_viewers":true
    }
   }
  },
  {
   "cell_type":"markdown",
   "source":[
    "# Function roots"
   ],
   "attachments":{
    
   },
   "metadata":{
    "datalore":{
     "node_id":"VeDSx4KP56ovq2bDWngumt",
     "type":"MD",
     "hide_input_from_viewers":true,
     "hide_output_from_viewers":true
    }
   }
  },
  {
   "cell_type":"code",
   "source":[
    "res = solveset(eq2, x, Reals)\n",
    "pprint(res)\n",
    "N(res, 2)"
   ],
   "execution_count":15,
   "outputs":[
    {
     "name":"stdout",
     "text":[
      "{-3, -1, 3}\n"
     ],
     "output_type":"stream"
    }
   ],
   "metadata":{
    "datalore":{
     "node_id":"23AyMp7HOPhYuXGw8otccR",
     "type":"CODE",
     "hide_input_from_viewers":true,
     "hide_output_from_viewers":true
    }
   }
  },
  {
   "cell_type":"code",
   "source":[
    "lst = [-oo, oo]\n",
    "lst[1:1] = solveset(diff(eq2), x, Reals).evalf(2)\n",
    "lst"
   ],
   "execution_count":17,
   "outputs":[
    {
     "data":{
      "image\/png":"[encoded data removed]"
     },
     "metadata":{
      "image\/png":{
       
      }
     },
     "output_type":"display_data"
    }
   ],
   "metadata":{
    "datalore":{
     "node_id":"z482rtpFiMw5OrGyRaDiAJ",
     "type":"CODE",
     "hide_input_from_viewers":true,
     "hide_output_from_viewers":true
    }
   }
  },
  {
   "cell_type":"markdown",
   "source":[
    "# Increasing and decreasing function intervals"
   ],
   "attachments":{
    
   },
   "metadata":{
    "datalore":{
     "node_id":"BYlo3e2rIDeKKtzlVZGKFo",
     "type":"MD",
     "hide_input_from_viewers":true,
     "hide_output_from_viewers":true
    }
   }
  },
  {
   "cell_type":"code",
   "source":[
    "increasing = []\n",
    "decreasing = []\n",
    "for i in range (1, len(lst)):\n",
    "    tmp = is_increasing(eq2, Interval.open(lst[i-1], lst[i]))\n",
    "    if tmp:\n",
    "        increasing.append(f\"{lst[i-1]}, {lst[i]}\")\n",
    "    else:\n",
    "        decreasing.append(f\"{lst[i-1]}, {lst[i]}\")\n",
    "print(\"Function is increasing: \", *increasing, sep=\"\\n\") \n",
    "\n",
    "print(\"Function is decreasing: \", *decreasing, sep=\"\\n\")"
   ],
   "execution_count":18,
   "outputs":[
    {
     "name":"stdout",
     "text":[
      "Function is increasing: \n",
      "Function is decreasing: \n",
      "-oo, -2.1\n",
      "-2.1, 1.4\n",
      "1.4, oo\n"
     ],
     "output_type":"stream"
    }
   ],
   "metadata":{
    "datalore":{
     "node_id":"wN2vcS1fXfQ54BVA3p4gVU",
     "type":"CODE",
     "hide_input_from_viewers":true,
     "hide_output_from_viewers":true
    }
   }
  },
  {
   "cell_type":"markdown",
   "source":[
    "# Graph of a function"
   ],
   "attachments":{
    
   },
   "metadata":{
    "datalore":{
     "node_id":"CoURs4HedwNagxwj0PepUA",
     "type":"MD",
     "hide_input_from_viewers":true,
     "hide_output_from_viewers":true
    }
   }
  },
  {
   "cell_type":"code",
   "source":[
    "plot(eq2, (x, -4, 4), legend=True)"
   ],
   "execution_count":22,
   "outputs":[
    {
     "data":{
      "image\/png":"[encoded data removed]"
     },
     "metadata":{
      "image\/png":{
       
      }
     },
     "output_type":"display_data"
    },
    {
     "data":{
      "text\/plain":[
       "<sympy.plotting.plot.Plot at 0x7fa99cf6c1f0>"
      ]
     },
     "metadata":{
      
     },
     "output_type":"display_data"
    }
   ],
   "metadata":{
    "datalore":{
     "node_id":"H0QJndHmpwTiuWHAzo9Vcu",
     "type":"CODE",
     "hide_input_from_viewers":true,
     "hide_output_from_viewers":true
    }
   }
  },
  {
   "cell_type":"markdown",
   "source":[
    "# Extrema of a function"
   ],
   "attachments":{
    
   },
   "metadata":{
    "datalore":{
     "node_id":"aQFxXt0Pms6qkTAhxOyhkB",
     "type":"MD",
     "hide_input_from_viewers":true,
     "hide_output_from_viewers":true
    }
   }
  },
  {
   "cell_type":"code",
   "source":[
    "from random import uniform\n",
    "\n",
    "f_diff = sorted(solveset(diff(eq2), x, Reals).evalf(2))\n",
    "f_diff.insert(0, f_diff[0]-1)\n",
    "f_1 = diff(eq2)\n",
    "\n",
    "ext_list = []\n",
    "\n",
    "\n",
    "for i, val in enumerate(f_diff):\n",
    "    ext_list.append(f_1.subs(x, uniform(val, f_diff[i] +1 )))\n",
    "    if i != 0:\n",
    "        if ext_list[i-1] < 0 < ext_list[i]:\n",
    "            print(f\"Minimum: {val}, {eq2.subs(x, val).evalf(2)}\")\n",
    "        elif ext_list[i-1] > 0 > ext_list[i]:\n",
    "            print(f\"Maximum: {val}, {eq2.subs(x, val).evalf(2)}\")\n",
    "        "
   ],
   "execution_count":23,
   "outputs":[
    {
     "name":"stdout",
     "text":[
      "Maximum: -2.1, 10\n",
      "Minimum: 1.4, -34\n"
     ],
     "output_type":"stream"
    }
   ],
   "metadata":{
    "datalore":{
     "node_id":"oqwWZ7SPcN7X3DL5adosah",
     "type":"CODE",
     "hide_input_from_viewers":true,
     "hide_output_from_viewers":true
    }
   }
  },
  {
   "cell_type":"code",
   "source":[
    "print(\"f > 0:\")\n",
    "solveset(eq2 > 0, x, Reals).evalf(2)"
   ],
   "execution_count":25,
   "outputs":[
    {
     "name":"stdout",
     "text":[
      "f > 0:\n"
     ],
     "output_type":"stream"
    },
    {
     "data":{
      "image\/png":"[encoded data removed]"
     },
     "metadata":{
      "image\/png":{
       
      }
     },
     "output_type":"display_data"
    }
   ],
   "metadata":{
    "datalore":{
     "node_id":"vRtz8ZjNyrffdId3iyhYwP",
     "type":"CODE",
     "hide_input_from_viewers":true,
     "hide_output_from_viewers":true
    }
   }
  },
  {
   "cell_type":"code",
   "source":[
    "print(\"f < 0:\")\n",
    "solveset(eq2 < 0, x, Reals).evalf(2)"
   ],
   "execution_count":26,
   "outputs":[
    {
     "name":"stdout",
     "text":[
      "f < 0:\n"
     ],
     "output_type":"stream"
    }
   ],
   "metadata":{
    "datalore":{
     "node_id":"h2KXX6DBaNGna8np9bAWhd",
     "type":"CODE",
     "hide_input_from_viewers":true,
     "hide_output_from_viewers":true
    }
   }
  },
  {
   "cell_type":"markdown",
   "source":[
    
   ],
   "attachments":{
    
   },
   "metadata":{
    "datalore":{
     "node_id":"zFKA1JQnI3sRQFIPxXnmcV",
     "type":"MD",
     "hide_input_from_viewers":true,
     "hide_output_from_viewers":true
    }
   }
  },
  {
   "cell_type":"markdown",
   "source":[
    "# Function #3"
   ],
   "attachments":{
    
   },
   "metadata":{
    "datalore":{
     "node_id":"HtkbWGzCa78qRlgpEYUy4V",
     "type":"MD",
     "hide_input_from_viewers":true,
     "hide_output_from_viewers":true
    }
   }
  },
  {
   "cell_type":"code",
   "source":[
    "eq3"
   ],
   "execution_count":29,
   "outputs":[
    {
     "data":{
      "image\/png":"[encoded data removed]"
     },
     "metadata":{
      "image\/png":{
       
      }
     },
     "output_type":"display_data"
    }
   ],
   "metadata":{
    "datalore":{
     "node_id":"oi4YRMg2ZGDCJfcJOWGN6k",
     "type":"CODE",
     "hide_input_from_viewers":true,
     "hide_output_from_viewers":true
    }
   }
  },
  {
   "cell_type":"markdown",
   "source":[
    "# Function roots"
   ],
   "attachments":{
    
   },
   "metadata":{
    "datalore":{
     "node_id":"3lTu3JP5m8RHd0MKIEAL2p",
     "type":"MD",
     "hide_input_from_viewers":true,
     "hide_output_from_viewers":true
    }
   }
  },
  {
   "cell_type":"code",
   "source":[
    "res = solveset(eq3, x, Reals)\n",
    "pprint(res)\n",
    "N(res, 2)"
   ],
   "execution_count":31,
   "outputs":[
    {
     "name":"stdout",
     "text":[
      "∅\n"
     ],
     "output_type":"stream"
    },
    {
     "data":{
      "image\/png":"[encoded data removed]"
     },
     "metadata":{
      "image\/png":{
       
      }
     },
     "output_type":"display_data"
    }
   ],
   "metadata":{
    "datalore":{
     "node_id":"x7abBQWhQVk2XdlDPfFotk",
     "type":"CODE",
     "hide_input_from_viewers":true,
     "hide_output_from_viewers":true
    }
   }
  },
  {
   "cell_type":"code",
   "source":[
    "lst = [-oo, oo]\n",
    "lst[1:1] = solveset(diff(eq3), x, Reals).evalf(2)\n",
    "lst"
   ],
   "execution_count":32,
   "outputs":[
    {
     "data":{
      "image\/png":"[encoded data removed]"
     },
     "metadata":{
      "image\/png":{
       
      }
     },
     "output_type":"display_data"
    }
   ],
   "metadata":{
    "datalore":{
     "node_id":"alY7tR9z773s2irwNqjIW6",
     "type":"CODE",
     "hide_input_from_viewers":true,
     "hide_output_from_viewers":true
    }
   }
  },
  {
   "cell_type":"markdown",
   "source":[
    
   ],
   "attachments":{
    
   },
   "metadata":{
    "datalore":{
     "node_id":"c7qlIahACL2cJ2JK4tX6hD",
     "type":"MD",
     "hide_input_from_viewers":true,
     "hide_output_from_viewers":true
    }
   }
  },
  {
   "cell_type":"markdown",
   "source":[
    "# Increasing and decreasing function intervals"
   ],
   "attachments":{
    
   },
   "metadata":{
    "datalore":{
     "node_id":"0sX9Dszuo1ALg9H7pw99W9",
     "type":"MD",
     "hide_input_from_viewers":true,
     "hide_output_from_viewers":true
    }
   }
  },
  {
   "cell_type":"code",
   "source":[
    "increasing = []\n",
    "decreasing = []\n",
    "for i in range (1, len(lst)):\n",
    "    tmp = is_increasing(eq3, Interval.open(lst[i-1], lst[i]))\n",
    "    if tmp:\n",
    "        increasing.append(f\"{lst[i-1]}, {lst[i]}\")\n",
    "    else:\n",
    "        decreasing.append(f\"{lst[i-1]}, {lst[i]}\")\n",
    "print(\"Function is increasing: \", *increasing, sep=\"\\n\") \n",
    "\n",
    "print(\"Function is decreasing: \", *decreasing, sep=\"\\n\")"
   ],
   "execution_count":33,
   "outputs":[
    {
     "name":"stdout",
     "text":[
      "Function is increasing: \n",
      "-oo, -3.0\n",
      "1.0, oo\n",
      "Function is decreasing: \n",
      "-3.0, 1.0\n"
     ],
     "output_type":"stream"
    }
   ],
   "metadata":{
    "datalore":{
     "node_id":"kfa95a9l6JCi9IXBYjn4km",
     "type":"CODE",
     "hide_input_from_viewers":true,
     "hide_output_from_viewers":true
    }
   }
  },
  {
   "cell_type":"markdown",
   "source":[
    
   ],
   "attachments":{
    
   },
   "metadata":{
    "datalore":{
     "node_id":"4VQbcZ5r2Gzx9k9xu3qOxq",
     "type":"MD",
     "hide_input_from_viewers":true,
     "hide_output_from_viewers":true
    }
   }
  },
  {
   "cell_type":"markdown",
   "source":[
    "# Graph of a function"
   ],
   "attachments":{
    
   },
   "metadata":{
    "datalore":{
     "node_id":"ub7KyvxAwW7f4KXufhxKmU",
     "type":"MD",
     "hide_input_from_viewers":true,
     "hide_output_from_viewers":true
    }
   }
  },
  {
   "cell_type":"code",
   "source":[
    "#plot(eq3, (x, -2, 2), legend=True)\n",
    "f1 = plot(eq3, (x, -5, -1.1), show=False)\n",
    "f2 = plot(eq3, (x, -0.9, 5), show=False)\n",
    "f1.append(f2[0])\n",
    "f1.show()"
   ],
   "execution_count":44,
   "outputs":[
    {
     "data":{
      "image\/png":"[encoded data removed]"
     },
     "metadata":{
      "image\/png":{
       
      }
     },
     "output_type":"display_data"
    }
   ],
   "metadata":{
    "datalore":{
     "node_id":"5TwToDmmq4BeeCdYhUB897",
     "type":"CODE",
     "hide_input_from_viewers":true,
     "hide_output_from_viewers":true
    }
   }
  },
  {
   "cell_type":"markdown",
   "source":[
    "# Extrema of a function"
   ],
   "attachments":{
    
   },
   "metadata":{
    "datalore":{
     "node_id":"qxsJpnSTfAGJCc8fhP04tM",
     "type":"MD",
     "hide_input_from_viewers":true,
     "hide_output_from_viewers":true
    }
   }
  },
  {
   "cell_type":"code",
   "source":[
    "from random import uniform\n",
    "\n",
    "f_diff = sorted(solveset(diff(eq3), x, Reals).evalf(2))\n",
    "f_diff.insert(0, f_diff[0]-1)\n",
    "f_1 = diff(eq3)\n",
    "\n",
    "ext_list = []\n",
    "\n",
    "\n",
    "for i, val in enumerate(f_diff):\n",
    "    ext_list.append(f_1.subs(x, uniform(val, f_diff[i] +1 )))\n",
    "    if i != 0:\n",
    "        if ext_list[i-1] < 0 < ext_list[i]:\n",
    "            print(f\"Minimum: {val}, {eq3.subs(x, val).evalf(2)}\")\n",
    "        elif ext_list[i-1] > 0 > ext_list[i]:\n",
    "            print(f\"Maximum: {val}, {eq3.subs(x, val).evalf(2)}\")\n",
    "        "
   ],
   "execution_count":38,
   "outputs":[
    {
     "name":"stdout",
     "text":[
      "Maximum: -3.0, -2.0\n",
      "Minimum: 1.0, 0.67\n"
     ],
     "output_type":"stream"
    }
   ],
   "metadata":{
    "datalore":{
     "node_id":"xZ1bs5tx9RqRCw5dLOLnyC",
     "type":"CODE",
     "hide_input_from_viewers":true,
     "hide_output_from_viewers":true
    }
   }
  },
  {
   "cell_type":"code",
   "source":[
    "print(\"f > 0:\")\n",
    "solveset(eq3 > 0, x, Reals).evalf(2)"
   ],
   "execution_count":39,
   "outputs":[
    {
     "name":"stdout",
     "text":[
      "f > 0:\n"
     ],
     "output_type":"stream"
    },
    {
     "data":{
      "image\/png":"[encoded data removed]"
     },
     "metadata":{
      "image\/png":{
       
      }
     },
     "output_type":"display_data"
    }
   ],
   "metadata":{
    "datalore":{
     "node_id":"hG9o2fdvUVUczlDC2H0dGD",
     "type":"CODE",
     "hide_input_from_viewers":true,
     "hide_output_from_viewers":true
    }
   }
  },
  {
   "cell_type":"code",
   "source":[
    "print(\"f < 0:\")\n",
    "solveset(eq3 < 0, x, Reals).evalf(2)"
   ],
   "execution_count":41,
   "outputs":[
    {
     "name":"stdout",
     "text":[
      "f < 0:\n"
     ],
     "output_type":"stream"
    },
    {
     "data":{
      "image\/png":"[encoded data removed]"
     },
     "metadata":{
      "image\/png":{
       
      }
     },
     "output_type":"display_data"
    }
   ],
   "metadata":{
    "datalore":{
     "node_id":"NVVxrlbtPdBYfG4HlE5Ym7",
     "type":"CODE",
     "hide_input_from_viewers":true,
     "hide_output_from_viewers":true
    }
   }
  }
 ],
 "metadata":{
  "kernelspec":{
   "display_name":"Python",
   "language":"python",
   "name":"python"
  },
  "datalore":{
   "version":1,
   "computation_mode":"JUPYTER",
   "package_manager":"pip",
   "base_environment":"default",
   "packages":[
    
   ]
  }
 },
 "nbformat":4,
 "nbformat_minor":4
}